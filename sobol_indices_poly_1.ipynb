{
 "cells": [
  {
   "cell_type": "code",
   "execution_count": 40,
   "id": "7e0fd167",
   "metadata": {},
   "outputs": [
    {
     "name": "stderr",
     "output_type": "stream",
     "text": [
      "/Users/vayu/anaconda3/lib/python3.7/site-packages/SALib/sample/saltelli.py:94: UserWarning: \n",
      "        Convergence properties of the Sobol' sequence is only valid if\n",
      "        `N` (5000) is equal to `2^n`.\n",
      "        \n",
      "  warnings.warn(msg)\n"
     ]
    },
    {
     "name": "stdout",
     "output_type": "stream",
     "text": [
      "Mean Squared Error: 0.004760330175609551\n",
      "First-order Sobol indices: [0.31666671 0.44178805 0.00158768]\n",
      "Total Sobol indices: [0.55707474 0.44101384 0.24293542]\n",
      "Second-order Sobol indices:\n",
      "[[            nan -5.90653648e-05  2.41574197e-01]\n",
      " [            nan             nan  2.37110201e-04]\n",
      " [            nan             nan             nan]]\n"
     ]
    }
   ],
   "source": [
    "import numpy as np\n",
    "from sklearn.model_selection import train_test_split\n",
    "from sklearn.preprocessing import PolynomialFeatures\n",
    "from sklearn.linear_model import LinearRegression\n",
    "from SALib.sample import saltelli\n",
    "from SALib.analyze import sobol\n",
    "\n",
    "# Define the Ishigami function\n",
    "def ishigami(x):\n",
    "    a = 7\n",
    "    b = 0.1\n",
    "    return np.sin(x[0]) + a * np.sin(x[1])**2 + b * x[2]**4 * np.sin(x[0])\n",
    "\n",
    "# Set the number of samples\n",
    "num_samples = 5000\n",
    "\n",
    "# Generate Sobol sequences for sensitivity analysis\n",
    "problem = {\n",
    "    'num_vars': 3,\n",
    "    'names': ['x1', 'x2', 'x3'],\n",
    "    'bounds': [[-np.pi, np.pi], [-np.pi, np.pi], [-np.pi, np.pi]]\n",
    "}\n",
    "\n",
    "# Generate Sobol sequences for sensitivity analysis\n",
    "sa_samples = saltelli.sample(problem, num_samples)\n",
    "\n",
    "# Evaluate Ishigami function at the generated samples\n",
    "function_values = np.array([ishigami(sample) for sample in sa_samples])\n",
    "\n",
    "# Create polynomial features up to the desired order\n",
    "order = 8\n",
    "poly = PolynomialFeatures(degree=order, include_bias=False)\n",
    "poly_samples = poly.fit_transform(sa_samples)\n",
    "\n",
    "# Split the data into training and testing sets\n",
    "X_train, X_test, y_train, y_test = train_test_split(poly_samples, function_values, test_size=0.2, random_state=42)\n",
    "\n",
    "# Fit a linear regression model to obtain coefficients\n",
    "model = LinearRegression()\n",
    "model.fit(X_train, y_train)\n",
    "\n",
    "# Make predictions on the testing set\n",
    "y_pred = model.predict(X_test)\n",
    "\n",
    "# Calculate model accuracy (for example, Mean Squared Error)\n",
    "mse = np.mean((y_test - y_pred)**2)\n",
    "print(\"Mean Squared Error:\", mse)\n",
    "\n",
    "\n",
    "predictions = model.predict(poly_samples)\n",
    "# Perform Sobol sensitivity analysis\n",
    "sobol_indices = sobol.analyze(problem, predictions, print_to_console=False)\n",
    "\n",
    "# Print the results\n",
    "print(\"First-order Sobol indices:\", sobol_indices['S1'])\n",
    "print(\"Total Sobol indices:\", sobol_indices['ST'])\n",
    "print(\"Second-order Sobol indices:\")\n",
    "print(sobol_indices['S2'])\n"
   ]
  },
  {
   "cell_type": "code",
   "execution_count": 35,
   "id": "e30fbeed",
   "metadata": {},
   "outputs": [
    {
     "data": {
      "text/plain": [
       "array([3.426362  , 3.3527401 , 0.85463176, ..., 0.7979166 , 0.2301734 ,\n",
       "       0.67233814])"
      ]
     },
     "execution_count": 35,
     "metadata": {},
     "output_type": "execute_result"
    }
   ],
   "source": [
    "function_values"
   ]
  },
  {
   "cell_type": "code",
   "execution_count": null,
   "id": "fa38bc49",
   "metadata": {},
   "outputs": [],
   "source": []
  }
 ],
 "metadata": {
  "kernelspec": {
   "display_name": "Python 3 (ipykernel)",
   "language": "python",
   "name": "python3"
  },
  "language_info": {
   "codemirror_mode": {
    "name": "ipython",
    "version": 3
   },
   "file_extension": ".py",
   "mimetype": "text/x-python",
   "name": "python",
   "nbconvert_exporter": "python",
   "pygments_lexer": "ipython3",
   "version": "3.7.16"
  }
 },
 "nbformat": 4,
 "nbformat_minor": 5
}
