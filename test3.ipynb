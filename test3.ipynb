{
 "cells": [
  {
   "cell_type": "code",
   "execution_count": 1,
   "id": "fa328187",
   "metadata": {},
   "outputs": [
    {
     "ename": "NameError",
     "evalue": "name 'pd' is not defined",
     "output_type": "error",
     "traceback": [
      "\u001b[0;31m---------------------------------------------------------------------------\u001b[0m",
      "\u001b[0;31mNameError\u001b[0m                                 Traceback (most recent call last)",
      "\u001b[0;32m/var/folders/pz/t7j75jm5761278kks2l9xqkh0000gn/T/ipykernel_74502/2363826094.py\u001b[0m in \u001b[0;36m<module>\u001b[0;34m\u001b[0m\n\u001b[1;32m      2\u001b[0m \u001b[0;34m\u001b[0m\u001b[0m\n\u001b[1;32m      3\u001b[0m \u001b[0;31m# Step 1: Read the CSV file\u001b[0m\u001b[0;34m\u001b[0m\u001b[0;34m\u001b[0m\u001b[0;34m\u001b[0m\u001b[0m\n\u001b[0;32m----> 4\u001b[0;31m \u001b[0mdf\u001b[0m \u001b[0;34m=\u001b[0m \u001b[0mpd\u001b[0m\u001b[0;34m.\u001b[0m\u001b[0mread_csv\u001b[0m\u001b[0;34m(\u001b[0m\u001b[0;34m\"your_file.csv\"\u001b[0m\u001b[0;34m)\u001b[0m\u001b[0;34m\u001b[0m\u001b[0;34m\u001b[0m\u001b[0m\n\u001b[0m\u001b[1;32m      5\u001b[0m \u001b[0;34m\u001b[0m\u001b[0m\n\u001b[1;32m      6\u001b[0m \u001b[0;31m# Step 2: Identify output and feature columns\u001b[0m\u001b[0;34m\u001b[0m\u001b[0;34m\u001b[0m\u001b[0;34m\u001b[0m\u001b[0m\n",
      "\u001b[0;31mNameError\u001b[0m: name 'pd' is not defined"
     ]
    }
   ],
   "source": [
    "from sklearn.metrics.pairwise import euclidean_distances\n",
    "\n",
    "# Step 1: Read the CSV file\n",
    "df = pd.read_csv(\"your_file.csv\")\n",
    "\n",
    "# Step 2: Identify output and feature columns\n",
    "output_column = \"output_column_name\"  # Replace with the name of your output column\n",
    "feature_columns = [col for col in df.columns if col != output_column]\n",
    "\n",
    "# Step 3: Plot the distribution of all columns\n",
    "df[feature_columns].hist(bins=20, figsize=(15, 10))\n",
    "plt.tight_layout()\n",
    "plt.show()\n",
    "\n",
    "# Step 4: Create design of experiments only on feature columns\n",
    "total_points = len(df)\n",
    "lhs_points = lhs(len(feature_columns), samples=int(total_points * 0.1))\n",
    "random_points = np.random.rand(int(total_points * 0.1), len(feature_columns))\n",
    "ccd_points = ccdesign(len(feature_columns), center=(2**0.5), alpha='face', face='cci')\n",
    "\n",
    "# Combine points from different methods\n",
    "design_points = np.vstack((lhs_points, random_points, ccd_points))\n",
    "\n",
    "# Optionally, you may want to scale the design points to match the ranges of your original data\n",
    "# Example: design_points = design_points * (df[feature_columns].max() - df[feature_columns].min()) + df[feature_columns].min()\n",
    "\n",
    "# Calculate the Euclidean distances between each design point and all points in the feature space\n",
    "distances = euclidean_distances(df[feature_columns], design_points)\n",
    "\n",
    "# Find the index of the closest point in the feature space for each design point\n",
    "closest_indices = np.argmin(distances, axis=0)\n",
    "\n",
    "# Get the actual feature values of the closest points\n",
    "closest_points = df.iloc[closest_indices]\n",
    "\n",
    "print(\"Closest points in the feature space:\")\n",
    "print(closest_points)\n"
   ]
  },
  {
   "cell_type": "code",
   "execution_count": null,
   "id": "055c0d85",
   "metadata": {},
   "outputs": [],
   "source": []
  }
 ],
 "metadata": {
  "kernelspec": {
   "display_name": "Python 3 (ipykernel)",
   "language": "python",
   "name": "python3"
  },
  "language_info": {
   "codemirror_mode": {
    "name": "ipython",
    "version": 3
   },
   "file_extension": ".py",
   "mimetype": "text/x-python",
   "name": "python",
   "nbconvert_exporter": "python",
   "pygments_lexer": "ipython3",
   "version": "3.7.16"
  }
 },
 "nbformat": 4,
 "nbformat_minor": 5
}
