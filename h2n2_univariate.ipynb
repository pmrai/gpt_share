{
 "cells": [
  {
   "cell_type": "code",
   "execution_count": 419,
   "id": "ce598f62-fafe-424e-8339-dc97220f542f",
   "metadata": {},
   "outputs": [
    {
     "name": "stdout",
     "output_type": "stream",
     "text": [
      "\u001b[1m\u001b[38;5;208mVersion skforecast: 0.14.0\n",
      "\u001b[1m\u001b[38;5;208mVersion scikit-learn: 1.6.0\n",
      "\u001b[1m\u001b[38;5;208mVersion pandas: 2.2.3\n",
      "\u001b[1m\u001b[38;5;208mVersion numpy: 1.26.4\n"
     ]
    }
   ],
   "source": [
    "# Plots\n",
    "# ==============================================================================\n",
    "\n",
    "# Data manipulation\n",
    "# ==============================================================================\n",
    "import numpy as np\n",
    "import pandas as pd\n",
    "\n",
    "import matplotlib.pyplot as plt\n",
    "plt.style.use('fivethirtyeight')\n",
    "plt.rcParams['lines.linewidth'] = 1.5\n",
    "plt.rcParams['font.size'] = 10\n",
    "\n",
    "# Modeling and Forecasting\n",
    "# ==============================================================================\n",
    "import sklearn\n",
    "from sklearn.linear_model import Ridge\n",
    "import xgboost as xgb\n",
    "from sklearn.ensemble import RandomForestRegressor\n",
    "from sklearn.metrics import mean_squared_error\n",
    "from sklearn.metrics import mean_absolute_error\n",
    "from sklearn.preprocessing import StandardScaler\n",
    "import skforecast\n",
    "from skforecast.recursive import ForecasterRecursive\n",
    "from skforecast.direct import ForecasterDirect\n",
    "from skforecast.model_selection import TimeSeriesFold\n",
    "from skforecast.model_selection import grid_search_forecaster\n",
    "from skforecast.model_selection import backtesting_forecaster\n",
    "from skforecast.preprocessing import RollingFeatures\n",
    "from skforecast.utils import save_forecaster\n",
    "from skforecast.utils import load_forecaster\n",
    "import shap\n",
    "\n",
    "# Warnings configuration\n",
    "# ==============================================================================\n",
    "import warnings\n",
    "warnings.filterwarnings('once')\n",
    "\n",
    "color = '\\033[1m\\033[38;5;208m' \n",
    "print(f\"{color}Version skforecast: {skforecast.__version__}\")\n",
    "print(f\"{color}Version scikit-learn: {sklearn.__version__}\")\n",
    "print(f\"{color}Version pandas: {pd.__version__}\")\n",
    "print(f\"{color}Version numpy: {np.__version__}\")\n"
   ]
  },
  {
   "cell_type": "code",
   "execution_count": 420,
   "id": "080e7555-2000-4772-b34c-4a48cdc37694",
   "metadata": {},
   "outputs": [],
   "source": [
    "data = pd.read_csv('h2_n2_data.csv', parse_dates=['timestamp'], index_col='timestamp')"
   ]
  },
  {
   "cell_type": "code",
   "execution_count": 421,
   "id": "eb0a0124-4f28-4024-878b-8dd48259a547",
   "metadata": {},
   "outputs": [
    {
     "data": {
      "text/html": [
       "<div>\n",
       "<style scoped>\n",
       "    .dataframe tbody tr th:only-of-type {\n",
       "        vertical-align: middle;\n",
       "    }\n",
       "\n",
       "    .dataframe tbody tr th {\n",
       "        vertical-align: top;\n",
       "    }\n",
       "\n",
       "    .dataframe thead th {\n",
       "        text-align: right;\n",
       "    }\n",
       "</style>\n",
       "<table border=\"1\" class=\"dataframe\">\n",
       "  <thead>\n",
       "    <tr style=\"text-align: right;\">\n",
       "      <th></th>\n",
       "      <th>HIC03062</th>\n",
       "      <th>HIC03044</th>\n",
       "      <th>AI03142</th>\n",
       "      <th>AI94011A</th>\n",
       "      <th>AI94011C</th>\n",
       "      <th>AI94011D</th>\n",
       "      <th>AI94011E</th>\n",
       "      <th>ground_truth_H2_N2_ratio</th>\n",
       "    </tr>\n",
       "    <tr>\n",
       "      <th>timestamp</th>\n",
       "      <th></th>\n",
       "      <th></th>\n",
       "      <th></th>\n",
       "      <th></th>\n",
       "      <th></th>\n",
       "      <th></th>\n",
       "      <th></th>\n",
       "      <th></th>\n",
       "    </tr>\n",
       "  </thead>\n",
       "  <tbody>\n",
       "    <tr>\n",
       "      <th>2023-07-01 00:05:00</th>\n",
       "      <td>109.999168</td>\n",
       "      <td>0.784</td>\n",
       "      <td>14.011567</td>\n",
       "      <td>4.360608</td>\n",
       "      <td>91.031656</td>\n",
       "      <td>2.884754</td>\n",
       "      <td>0.098855</td>\n",
       "      <td>2.865227</td>\n",
       "    </tr>\n",
       "    <tr>\n",
       "      <th>2023-07-01 00:10:00</th>\n",
       "      <td>109.999309</td>\n",
       "      <td>0.784</td>\n",
       "      <td>14.049304</td>\n",
       "      <td>4.364124</td>\n",
       "      <td>91.315775</td>\n",
       "      <td>2.570169</td>\n",
       "      <td>0.097333</td>\n",
       "      <td>2.865396</td>\n",
       "    </tr>\n",
       "    <tr>\n",
       "      <th>2023-07-01 00:15:00</th>\n",
       "      <td>109.999423</td>\n",
       "      <td>0.784</td>\n",
       "      <td>14.069609</td>\n",
       "      <td>4.367528</td>\n",
       "      <td>91.597639</td>\n",
       "      <td>2.255717</td>\n",
       "      <td>0.095642</td>\n",
       "      <td>2.859329</td>\n",
       "    </tr>\n",
       "    <tr>\n",
       "      <th>2023-07-01 00:20:00</th>\n",
       "      <td>109.999519</td>\n",
       "      <td>0.784</td>\n",
       "      <td>14.091850</td>\n",
       "      <td>4.367595</td>\n",
       "      <td>91.597484</td>\n",
       "      <td>2.255740</td>\n",
       "      <td>0.095802</td>\n",
       "      <td>2.845370</td>\n",
       "    </tr>\n",
       "    <tr>\n",
       "      <th>2023-07-01 00:25:00</th>\n",
       "      <td>109.999596</td>\n",
       "      <td>0.784</td>\n",
       "      <td>14.124177</td>\n",
       "      <td>4.361142</td>\n",
       "      <td>91.578558</td>\n",
       "      <td>2.260947</td>\n",
       "      <td>0.095499</td>\n",
       "      <td>2.845211</td>\n",
       "    </tr>\n",
       "  </tbody>\n",
       "</table>\n",
       "</div>"
      ],
      "text/plain": [
       "                       HIC03062  HIC03044    AI03142  AI94011A   AI94011C  \\\n",
       "timestamp                                                                   \n",
       "2023-07-01 00:05:00  109.999168     0.784  14.011567  4.360608  91.031656   \n",
       "2023-07-01 00:10:00  109.999309     0.784  14.049304  4.364124  91.315775   \n",
       "2023-07-01 00:15:00  109.999423     0.784  14.069609  4.367528  91.597639   \n",
       "2023-07-01 00:20:00  109.999519     0.784  14.091850  4.367595  91.597484   \n",
       "2023-07-01 00:25:00  109.999596     0.784  14.124177  4.361142  91.578558   \n",
       "\n",
       "                     AI94011D  AI94011E  ground_truth_H2_N2_ratio  \n",
       "timestamp                                                          \n",
       "2023-07-01 00:05:00  2.884754  0.098855                  2.865227  \n",
       "2023-07-01 00:10:00  2.570169  0.097333                  2.865396  \n",
       "2023-07-01 00:15:00  2.255717  0.095642                  2.859329  \n",
       "2023-07-01 00:20:00  2.255740  0.095802                  2.845370  \n",
       "2023-07-01 00:25:00  2.260947  0.095499                  2.845211  "
      ]
     },
     "execution_count": 421,
     "metadata": {},
     "output_type": "execute_result"
    }
   ],
   "source": [
    "data.head()"
   ]
  },
  {
   "cell_type": "code",
   "execution_count": 422,
   "id": "52dfcfbe-f761-4f56-9834-b962b8425393",
   "metadata": {},
   "outputs": [],
   "source": [
    "data = data['2023-07-18 00:0:00':'2023-08-18 00:0:00']"
   ]
  },
  {
   "cell_type": "code",
   "execution_count": 355,
   "id": "e91ad39f-b0fd-4d4e-990a-bba83044623b",
   "metadata": {},
   "outputs": [],
   "source": [
    "data['AI94011A_1'] = data['AI94011A'].shift(1)\n",
    "data['AI94011C_1'] = data['AI94011C'].shift(1)\n",
    "data['AI94011D_1'] = data['AI94011D'].shift(1)\n",
    "data['AI94011E_1'] = data['AI94011E'].shift(1)\n",
    "data['HIC03062_1'] = data['HIC03062'].shift(1)\n",
    "data['HIC03044_1'] = data['HIC03044'].shift(1)\n",
    "data['AI03142_1'] = data['AI03142'].shift(1)"
   ]
  },
  {
   "cell_type": "code",
   "execution_count": 356,
   "id": "863d26e8-99a8-47ac-b389-999dc56ea685",
   "metadata": {},
   "outputs": [],
   "source": [
    "data['AI94011A_2'] = data['AI94011A'].shift(2)\n",
    "data['AI94011C_2'] = data['AI94011C'].shift(2)\n",
    "data['AI94011D_2'] = data['AI94011D'].shift(2)\n",
    "data['AI94011E_2'] = data['AI94011E'].shift(2)\n",
    "data['HIC03062_2'] = data['HIC03062'].shift(2)\n",
    "data['HIC03044_2'] = data['HIC03044'].shift(2)\n",
    "data['AI03142_2'] = data['AI03142'].shift(2)"
   ]
  },
  {
   "cell_type": "code",
   "execution_count": 423,
   "id": "e7f23437-12af-46b1-a587-b84e0fe74f04",
   "metadata": {},
   "outputs": [],
   "source": [
    "data = data.asfreq('5min')"
   ]
  },
  {
   "cell_type": "code",
   "execution_count": 424,
   "id": "448b27d1-e629-490d-be0b-96c1698ce5ca",
   "metadata": {},
   "outputs": [
    {
     "name": "stdout",
     "output_type": "stream",
     "text": [
      "Number of rows with missing values: 0.0017919139881285699\n"
     ]
    }
   ],
   "source": [
    "# Missing values\n",
    "# ==============================================================================\n",
    "print(f'Number of rows with missing values: {data.isnull().any(axis=1).mean()}')"
   ]
  },
  {
   "cell_type": "code",
   "execution_count": 425,
   "id": "7425eaab-b708-420f-aa52-9458a88afa44",
   "metadata": {},
   "outputs": [],
   "source": [
    "data = data.fillna(data.mean())"
   ]
  },
  {
   "cell_type": "code",
   "execution_count": 426,
   "id": "b6135e8c-a5fc-44d3-bfd6-10b5bccfc650",
   "metadata": {},
   "outputs": [
    {
     "name": "stdout",
     "output_type": "stream",
     "text": [
      "Index complete: True\n"
     ]
    }
   ],
   "source": [
    "# Verify that a temporary index is complete\n",
    "# ==============================================================================\n",
    "start_date = data.index.min()\n",
    "end_date = data.index.max()\n",
    "complete_date_range = pd.date_range(start=start_date, end=end_date, freq=data.index.freq)\n",
    "is_index_complete = (data.index == complete_date_range).all()\n",
    "print(f\"Index complete: {is_index_complete}\")"
   ]
  },
  {
   "cell_type": "code",
   "execution_count": 321,
   "id": "0829f7ec-afa7-44b4-a3c0-5eb1bc3b593f",
   "metadata": {},
   "outputs": [
    {
     "name": "stdout",
     "output_type": "stream",
     "text": [
      "Train dates : 2023-07-18 00:00:00 --- 2023-08-14 12:40:00  (n=7929)\n",
      "Test dates  : 2023-08-14 12:45:00 --- 2023-08-18 00:00:00  (n=1000)\n"
     ]
    },
    {
     "data": {
      "image/png": "[encoded data removed]",
      "text/plain": [
       "<Figure size 600x250 with 1 Axes>"
      ]
     },
     "metadata": {},
     "output_type": "display_data"
    }
   ],
   "source": [
    "# Split data into train-test\n",
    "# ==============================================================================\n",
    "steps = 1000\n",
    "data_train = data[:-steps]\n",
    "data_test  = data[-steps:]\n",
    "print(\n",
    "    f\"Train dates : {data_train.index.min()} --- \"\n",
    "    f\"{data_train.index.max()}  (n={len(data_train)})\"\n",
    ")\n",
    "print(\n",
    "    f\"Test dates  : {data_test.index.min()} --- \"\n",
    "    f\"{data_test.index.max()}  (n={len(data_test)})\"\n",
    ")\n",
    "\n",
    "fig, ax = plt.subplots(figsize=(6, 2.5))\n",
    "data_train['ground_truth_H2_N2_ratio'].plot(ax=ax, label='train')\n",
    "data_test['ground_truth_H2_N2_ratio'].plot(ax=ax, label='test')\n",
    "ax.legend();"
   ]
  },
  {
   "cell_type": "code",
   "execution_count": 322,
   "id": "341334fb-0c71-4488-bf5a-e3b049ba64d5",
   "metadata": {},
   "outputs": [
    {
     "data": {
      "text/html": [
       "\n",
       "        <style>\n",
       "            .container-43706cb1f328450bbbb4a4032ef907c2 {\n",
       "                font-family: 'Arial', sans-serif;\n",
       "                font-size: 0.9em;\n",
       "                color: #333333;\n",
       "                border: 1px solid #ddd;\n",
       "                background-color: #f0f8ff;\n",
       "                padding: 5px 15px;\n",
       "                border-radius: 8px;\n",
       "                max-width: 600px;\n",
       "                #margin: auto;\n",
       "            }\n",
       "            .container-43706cb1f328450bbbb4a4032ef907c2 h2 {\n",
       "                font-size: 1.5em;\n",
       "                color: #222222;\n",
       "                border-bottom: 2px solid #ddd;\n",
       "                padding-bottom: 5px;\n",
       "                margin-bottom: 15px;\n",
       "                margin-top: 5px;\n",
       "            }\n",
       "            .container-43706cb1f328450bbbb4a4032ef907c2 details {\n",
       "                margin: 10px 0;\n",
       "            }\n",
       "            .container-43706cb1f328450bbbb4a4032ef907c2 summary {\n",
       "                font-weight: bold;\n",
       "                font-size: 1.1em;\n",
       "                color: #000000;\n",
       "                cursor: pointer;\n",
       "                margin-bottom: 5px;\n",
       "                background-color: #b3dbfd;\n",
       "                padding: 5px;\n",
       "                border-radius: 5px;\n",
       "            }\n",
       "            .container-43706cb1f328450bbbb4a4032ef907c2 summary:hover {\n",
       "                color: #000000;\n",
       "                background-color: #e0e0e0;\n",
       "            }\n",
       "            .container-43706cb1f328450bbbb4a4032ef907c2 ul {\n",
       "                font-family: 'Courier New', monospace;\n",
       "                list-style-type: none;\n",
       "                padding-left: 20px;\n",
       "                margin: 10px 0;\n",
       "                line-height: normal;\n",
       "            }\n",
       "            .container-43706cb1f328450bbbb4a4032ef907c2 li {\n",
       "                margin: 5px 0;\n",
       "                font-family: 'Courier New', monospace;\n",
       "            }\n",
       "            .container-43706cb1f328450bbbb4a4032ef907c2 li strong {\n",
       "                font-weight: bold;\n",
       "                color: #444444;\n",
       "            }\n",
       "            .container-43706cb1f328450bbbb4a4032ef907c2 li::before {\n",
       "                content: \"- \";\n",
       "                color: #666666;\n",
       "            }\n",
       "            .container-43706cb1f328450bbbb4a4032ef907c2 a {\n",
       "                color: #001633;\n",
       "                text-decoration: none;\n",
       "            }\n",
       "            .container-43706cb1f328450bbbb4a4032ef907c2 a:hover {\n",
       "                color: #359ccb; \n",
       "            }\n",
       "        </style>\n",
       "        \n",
       "        <div class=\"container-43706cb1f328450bbbb4a4032ef907c2\">\n",
       "            <h2>ForecasterRecursive</h2>\n",
       "            <details open>\n",
       "                <summary>General Information</summary>\n",
       "                <ul>\n",
       "                    <li><strong>Regressor:</strong> Ridge</li>\n",
       "                    <li><strong>Lags:</strong> [1 2 3 4 5 6]</li>\n",
       "                    <li><strong>Window features:</strong> None</li>\n",
       "                    <li><strong>Window size:</strong> 6</li>\n",
       "                    <li><strong>Exogenous included:</strong> False</li>\n",
       "                    <li><strong>Weight function included:</strong> False</li>\n",
       "                    <li><strong>Differentiation order:</strong> None</li>\n",
       "                    <li><strong>Creation date:</strong> 2024-12-11 14:26:52</li>\n",
       "                    <li><strong>Last fit date:</strong> 2024-12-11 14:26:52</li>\n",
       "                    <li><strong>Skforecast version:</strong> 0.14.0</li>\n",
       "                    <li><strong>Python version:</strong> 3.9.20</li>\n",
       "                    <li><strong>Forecaster id:</strong> None</li>\n",
       "                </ul>\n",
       "            </details>\n",
       "            <details>\n",
       "                <summary>Exogenous Variables</summary>\n",
       "                <ul>\n",
       "                    None\n",
       "                </ul>\n",
       "            </details>\n",
       "            <details>\n",
       "                <summary>Data Transformations</summary>\n",
       "                <ul>\n",
       "                    <li><strong>Transformer for y:</strong> None</li>\n",
       "                    <li><strong>Transformer for exog:</strong> None</li>\n",
       "                </ul>\n",
       "            </details>\n",
       "            <details>\n",
       "                <summary>Training Information</summary>\n",
       "                <ul>\n",
       "                    <li><strong>Training range:</strong> [Timestamp('2023-07-18 00:00:00'), Timestamp('2023-08-14 12:40:00')]</li>\n",
       "                    <li><strong>Training index type:</strong> DatetimeIndex</li>\n",
       "                    <li><strong>Training index frequency:</strong> 5min</li>\n",
       "                </ul>\n",
       "            </details>\n",
       "            <details>\n",
       "                <summary>Regressor Parameters</summary>\n",
       "                <ul>\n",
       "                    {'alpha': 0.001, 'copy_X': True, 'fit_intercept': True, 'max_iter': None, 'positive': False, 'random_state': None, 'solver': 'auto', 'tol': 0.0001}\n",
       "                </ul>\n",
       "            </details>\n",
       "            <details>\n",
       "                <summary>Fit Kwargs</summary>\n",
       "                <ul>\n",
       "                    {}\n",
       "                </ul>\n",
       "            </details>\n",
       "            <p>\n",
       "                <a href=\"https://skforecast.org/0.14.0/api/forecasterrecursive.html\">&#128712 <strong>API Reference</strong></a>\n",
       "                &nbsp;&nbsp;\n",
       "                <a href=\"https://skforecast.org/0.14.0/user_guides/autoregresive-forecaster.html\">&#128462 <strong>User Guide</strong></a>\n",
       "            </p>\n",
       "        </div>\n",
       "        "
      ],
      "text/plain": [
       "=================== \n",
       "ForecasterRecursive \n",
       "=================== \n",
       "Regressor: Ridge \n",
       "Lags: [1 2 3 4 5 6] \n",
       "Window features: None \n",
       "Window size: 6 \n",
       "Exogenous included: False \n",
       "Exogenous names: None \n",
       "Transformer for y: None \n",
       "Transformer for exog: None \n",
       "Weight function included: False \n",
       "Differentiation order: None \n",
       "Training range: [Timestamp('2023-07-18 00:00:00'), Timestamp('2023-08-14 12:40:00')] \n",
       "Training index type: DatetimeIndex \n",
       "Training index frequency: 5min \n",
       "Regressor parameters: \n",
       "    {'alpha': 0.001, 'copy_X': True, 'fit_intercept': True, 'max_iter': None,\n",
       "    'positive': False, 'random_state': None, 'solver': 'auto', 'tol': 0.0001} \n",
       "fit_kwargs: {} \n",
       "Creation date: 2024-12-11 14:26:52 \n",
       "Last fit date: 2024-12-11 14:26:52 \n",
       "Skforecast version: 0.14.0 \n",
       "Python version: 3.9.20 \n",
       "Forecaster id: None "
      ]
     },
     "execution_count": 322,
     "metadata": {},
     "output_type": "execute_result"
    }
   ],
   "source": [
    "# Create and train forecaster\n",
    "# ==============================================================================\n",
    "forecaster = ForecasterRecursive(\n",
    "                 regressor = Ridge(alpha=0.001),\n",
    "                 lags      = 6\n",
    "             )\n",
    "forecaster.fit(y=data_train['ground_truth_H2_N2_ratio'])\n",
    "forecaster"
   ]
  },
  {
   "cell_type": "code",
   "execution_count": 323,
   "id": "57e55dfa-186c-48d5-84e9-8626c96fbaad",
   "metadata": {},
   "outputs": [
    {
     "data": {
      "text/plain": [
       "2023-08-14 12:45:00    2.894907\n",
       "2023-08-14 12:50:00    2.888566\n",
       "2023-08-14 12:55:00    2.883311\n",
       "2023-08-14 13:00:00    2.880596\n",
       "2023-08-14 13:05:00    2.878406\n",
       "Freq: 5min, Name: pred, dtype: float64"
      ]
     },
     "execution_count": 323,
     "metadata": {},
     "output_type": "execute_result"
    }
   ],
   "source": [
    "# Predictions\n",
    "# ==============================================================================\n",
    "steps = 12\n",
    "predictions = forecaster.predict(steps=steps)\n",
    "predictions.head(5)"
   ]
  },
  {
   "cell_type": "code",
   "execution_count": 324,
   "id": "770b161f-16be-4a67-86a1-8c912c31383e",
   "metadata": {},
   "outputs": [
    {
     "data": {
      "image/png": "[encoded data removed]",
      "text/plain": [
       "<Figure size 600x250 with 1 Axes>"
      ]
     },
     "metadata": {},
     "output_type": "display_data"
    }
   ],
   "source": [
    "# Plot predictions versus test data\n",
    "# ==============================================================================\n",
    "fig, ax = plt.subplots(figsize=(6, 2.5))\n",
    "#data_train['ground_truth_H2_N2_ratio'].plot(ax=ax, label='train')\n",
    "data_test.iloc[:12]['ground_truth_H2_N2_ratio'].plot(ax=ax, label='test')\n",
    "predictions.plot(ax=ax, label='predictions')\n",
    "ax.legend();"
   ]
  },
  {
   "cell_type": "code",
   "execution_count": 325,
   "id": "bf203043-5e5f-419b-80cc-3287be634792",
   "metadata": {},
   "outputs": [
    {
     "name": "stdout",
     "output_type": "stream",
     "text": [
      "Test error (MSE): 0.00010396537736097316\n"
     ]
    }
   ],
   "source": [
    "# Test error\n",
    "# ==============================================================================\n",
    "error_mse = mean_squared_error(\n",
    "                y_true = data_test.iloc[:12]['ground_truth_H2_N2_ratio'],\n",
    "                y_pred = predictions\n",
    "            )\n",
    "print(f\"Test error (MSE): {error_mse}\")"
   ]
  },
  {
   "cell_type": "code",
   "execution_count": 329,
   "id": "c3299e13-6630-483f-89a3-d4e73383ff92",
   "metadata": {},
   "outputs": [
    {
     "name": "stdout",
     "output_type": "stream",
     "text": [
      "{'alpha': 0.001, 'copy_X': True, 'fit_intercept': True, 'max_iter': None, 'positive': False, 'random_state': None, 'solver': 'auto', 'tol': 0.0001}\n"
     ]
    }
   ],
   "source": [
    "model_params = forecaster.regressor.get_params()\n",
    "print(model_params)\n",
    "# Example for feature importance\n",
    "if hasattr(forecaster.regressor, \"feature_importances_\"):\n",
    "    print(forecaster.regressor.feature_importances_)"
   ]
  },
  {
   "cell_type": "code",
   "execution_count": 86,
   "id": "8e0f2428-a62f-4c4c-ac8b-637097c63130",
   "metadata": {},
   "outputs": [
    {
     "name": "stderr",
     "output_type": "stream",
     "text": [
      "lags grid:   0%|                                                                                                                                                                      | 0/1 [00:00<?, ?it/s]\n",
      "params grid:   0%|                                                                                                                                                                    | 0/4 [00:00<?, ?it/s]\u001b[A\n",
      "params grid:  25%|███████████████████████████████████████                                                                                                                     | 1/4 [00:14<00:44, 14.67s/it]\u001b[A\n",
      "params grid:  50%|██████████████████████████████████████████████████████████████████████████████                                                                              | 2/4 [00:33<00:34, 17.31s/it]\u001b[A\n",
      "params grid:  75%|█████████████████████████████████████████████████████████████████████████████████████████████████████████████████████                                       | 3/4 [00:42<00:13, 13.39s/it]\u001b[A\n",
      "params grid: 100%|████████████████████████████████████████████████████████████████████████████████████████████████████████████████████████████████████████████████████████████| 4/4 [00:59<00:00, 14.82s/it]\u001b[A\n",
      "lags grid: 100%|██████████████████████████████████████████████████████████████████████████████████████████████████████████████████████████████████████████████████████████████| 1/1 [00:59<00:00, 59.58s/it]\u001b[A\n"
     ]
    },
    {
     "name": "stdout",
     "output_type": "stream",
     "text": [
      "`Forecaster` refitted using the best-found lags and parameters, and the whole data set: \n",
      "  Lags: [1 2 3 4 5 6] \n",
      "  Parameters: {'max_depth': 3, 'n_estimators': 100}\n",
      "  Backtesting metric: 0.00034452015569259593\n"
     ]
    }
   ],
   "source": [
    "# Hyperparameters: grid search\n",
    "# ==============================================================================\n",
    "forecaster = ForecasterRecursive(\n",
    "                 regressor = RandomForestRegressor(random_state=123),\n",
    "                 lags      = 12 # This value will be replaced in the grid search\n",
    "             )\n",
    "\n",
    "# Training and validation folds\n",
    "cv = TimeSeriesFold(\n",
    "      steps              = 1000,\n",
    "      initial_train_size = int(len(data_train) * 0.7),\n",
    "      refit              = False,\n",
    "      fixed_train_size   = False,\n",
    "\n",
    "    )\n",
    "\n",
    "# Candidate values for lags\n",
    "lags_grid = [6]\n",
    "\n",
    "# Candidate values for regressor's hyperparameters\n",
    "param_grid = {\n",
    "    'n_estimators': [50, 100],\n",
    "    'max_depth': [3, 5]\n",
    "}\n",
    "\n",
    "results_grid = grid_search_forecaster(\n",
    "                    forecaster  = forecaster,\n",
    "                    y           = data_train['ground_truth_H2_N2_ratio'],\n",
    "                    cv          = cv,\n",
    "                    param_grid  = param_grid,\n",
    "                    lags_grid   = lags_grid,\n",
    "                    metric      = 'mean_squared_error',  \n",
    "                    return_best = True,\n",
    "                    n_jobs      = 'auto',\n",
    "                    verbose     = False\n",
    "                )"
   ]
  },
  {
   "cell_type": "code",
   "execution_count": 87,
   "id": "5c21b720-c2fd-463c-a332-17b511a6942f",
   "metadata": {},
   "outputs": [
    {
     "data": {
      "text/html": [
       "<div>\n",
       "<style scoped>\n",
       "    .dataframe tbody tr th:only-of-type {\n",
       "        vertical-align: middle;\n",
       "    }\n",
       "\n",
       "    .dataframe tbody tr th {\n",
       "        vertical-align: top;\n",
       "    }\n",
       "\n",
       "    .dataframe thead th {\n",
       "        text-align: right;\n",
       "    }\n",
       "</style>\n",
       "<table border=\"1\" class=\"dataframe\">\n",
       "  <thead>\n",
       "    <tr style=\"text-align: right;\">\n",
       "      <th></th>\n",
       "      <th>lags</th>\n",
       "      <th>lags_label</th>\n",
       "      <th>params</th>\n",
       "      <th>mean_squared_error</th>\n",
       "      <th>max_depth</th>\n",
       "      <th>n_estimators</th>\n",
       "    </tr>\n",
       "  </thead>\n",
       "  <tbody>\n",
       "    <tr>\n",
       "      <th>0</th>\n",
       "      <td>[1, 2, 3, 4, 5, 6]</td>\n",
       "      <td>[1, 2, 3, 4, 5, 6]</td>\n",
       "      <td>{'max_depth': 3, 'n_estimators': 100}</td>\n",
       "      <td>0.000345</td>\n",
       "      <td>3</td>\n",
       "      <td>100</td>\n",
       "    </tr>\n",
       "    <tr>\n",
       "      <th>1</th>\n",
       "      <td>[1, 2, 3, 4, 5, 6]</td>\n",
       "      <td>[1, 2, 3, 4, 5, 6]</td>\n",
       "      <td>{'max_depth': 3, 'n_estimators': 50}</td>\n",
       "      <td>0.000345</td>\n",
       "      <td>3</td>\n",
       "      <td>50</td>\n",
       "    </tr>\n",
       "    <tr>\n",
       "      <th>2</th>\n",
       "      <td>[1, 2, 3, 4, 5, 6]</td>\n",
       "      <td>[1, 2, 3, 4, 5, 6]</td>\n",
       "      <td>{'max_depth': 5, 'n_estimators': 50}</td>\n",
       "      <td>0.000663</td>\n",
       "      <td>5</td>\n",
       "      <td>50</td>\n",
       "    </tr>\n",
       "    <tr>\n",
       "      <th>3</th>\n",
       "      <td>[1, 2, 3, 4, 5, 6]</td>\n",
       "      <td>[1, 2, 3, 4, 5, 6]</td>\n",
       "      <td>{'max_depth': 5, 'n_estimators': 100}</td>\n",
       "      <td>0.000666</td>\n",
       "      <td>5</td>\n",
       "      <td>100</td>\n",
       "    </tr>\n",
       "  </tbody>\n",
       "</table>\n",
       "</div>"
      ],
      "text/plain": [
       "                 lags          lags_label  \\\n",
       "0  [1, 2, 3, 4, 5, 6]  [1, 2, 3, 4, 5, 6]   \n",
       "1  [1, 2, 3, 4, 5, 6]  [1, 2, 3, 4, 5, 6]   \n",
       "2  [1, 2, 3, 4, 5, 6]  [1, 2, 3, 4, 5, 6]   \n",
       "3  [1, 2, 3, 4, 5, 6]  [1, 2, 3, 4, 5, 6]   \n",
       "\n",
       "                                  params  mean_squared_error  max_depth  \\\n",
       "0  {'max_depth': 3, 'n_estimators': 100}            0.000345          3   \n",
       "1   {'max_depth': 3, 'n_estimators': 50}            0.000345          3   \n",
       "2   {'max_depth': 5, 'n_estimators': 50}            0.000663          5   \n",
       "3  {'max_depth': 5, 'n_estimators': 100}            0.000666          5   \n",
       "\n",
       "   n_estimators  \n",
       "0           100  \n",
       "1            50  \n",
       "2            50  \n",
       "3           100  "
      ]
     },
     "execution_count": 87,
     "metadata": {},
     "output_type": "execute_result"
    }
   ],
   "source": [
    "# Search results\n",
    "# ==============================================================================\n",
    "results_grid"
   ]
  },
  {
   "cell_type": "code",
   "execution_count": 427,
   "id": "fadf6923-fca1-4a2a-aa46-11f7eb512f8c",
   "metadata": {},
   "outputs": [],
   "source": [
    "# Create and train forecaster with the best hyperparameters and lags found\n",
    "# ==============================================================================\n",
    "#regressor = RandomForestRegressor(n_estimators=100, max_depth=3, random_state=123)\n",
    "regressor = Ridge(alpha=0.0001)\n",
    "# regressor=xgb.XGBRegressor(\n",
    "#         objective='reg:squarederror',  # Objective function\n",
    "#         n_estimators=100,  # Number of trees\n",
    "#         max_depth=5,  # Maximum depth of trees\n",
    "#         learning_rate=0.01  # Learning rate\n",
    "#         )\n",
    "forecaster = ForecasterDirect(\n",
    "                 regressor = regressor,\n",
    "                 steps = 12,\n",
    "                 lags = 6\n",
    "             )\n",
    "forecaster.fit(y=data_train['ground_truth_H2_N2_ratio'])\n",
    "               # exog=data_train[['HIC03062_1','HIC03044_1','AI03142_1'\n",
    "               #                  ,'AI94011A_1','AI94011C_1','AI94011D_1','AI94011E_1'\n",
    "               #                  ,'HIC03062_2','HIC03044_2','AI03142_2'\n",
    "               #                  ,'AI94011A_2','AI94011C_2','AI94011D_2','AI94011E_2']])"
   ]
  },
  {
   "cell_type": "code",
   "execution_count": 428,
   "id": "3c517053-bc85-424c-bfaf-951da2ecc507",
   "metadata": {},
   "outputs": [],
   "source": [
    "#Backtesting"
   ]
  },
  {
   "cell_type": "code",
   "execution_count": 429,
   "id": "2e06a7ba-5b5f-4cc4-b0af-26d8bfd274f0",
   "metadata": {},
   "outputs": [
    {
     "name": "stderr",
     "output_type": "stream",
     "text": [
      "/Users/vayu/anaconda3/envs/opera/lib/python3.9/site-packages/skforecast/model_selection/_validation.py:191: LongTrainingWarning: The forecaster will be fit 8820 times (735 folds * 12 regressors). This can take substantial amounts of time. If not feasible, try with `refit = False`.\n",
      " \n",
      " You can suppress this warning using: warnings.simplefilter('ignore', category=LongTrainingWarning)\n",
      "  warnings.warn(\n",
      "100%|█████████████████████████████████████████████████████████████████████████████████████████████████████████████████████████████████████████████████████████████████████| 735/735 [00:30<00:00, 24.09it/s]\n"
     ]
    },
    {
     "data": {
      "text/html": [
       "<div>\n",
       "<style scoped>\n",
       "    .dataframe tbody tr th:only-of-type {\n",
       "        vertical-align: middle;\n",
       "    }\n",
       "\n",
       "    .dataframe tbody tr th {\n",
       "        vertical-align: top;\n",
       "    }\n",
       "\n",
       "    .dataframe thead th {\n",
       "        text-align: right;\n",
       "    }\n",
       "</style>\n",
       "<table border=\"1\" class=\"dataframe\">\n",
       "  <thead>\n",
       "    <tr style=\"text-align: right;\">\n",
       "      <th></th>\n",
       "      <th>mean_squared_error</th>\n",
       "    </tr>\n",
       "  </thead>\n",
       "  <tbody>\n",
       "    <tr>\n",
       "      <th>0</th>\n",
       "      <td>0.000222</td>\n",
       "    </tr>\n",
       "  </tbody>\n",
       "</table>\n",
       "</div>"
      ],
      "text/plain": [
       "   mean_squared_error\n",
       "0            0.000222"
      ]
     },
     "execution_count": 429,
     "metadata": {},
     "output_type": "execute_result"
    }
   ],
   "source": [
    "# Backtesting\n",
    "# ==============================================================================\n",
    "cv = TimeSeriesFold(\n",
    "         steps              = 12, \n",
    "         initial_train_size = 10 * 12,\n",
    "         fixed_train_size   = True,\n",
    "         refit              = True,\n",
    ")\n",
    "metric, predictions_backtest = backtesting_forecaster(\n",
    "                                    forecaster = forecaster,\n",
    "                                    y          = data['ground_truth_H2_N2_ratio'],\n",
    "                                    cv         = cv,\n",
    "                                    metric     = 'mean_squared_error',\n",
    "                                    verbose    = False\n",
    "                                )\n",
    "metric"
   ]
  },
  {
   "cell_type": "code",
   "execution_count": 430,
   "id": "c77435e1-b012-45d3-a9aa-a9734755942b",
   "metadata": {},
   "outputs": [
    {
     "data": {
      "text/html": [
       "<div>\n",
       "<style scoped>\n",
       "    .dataframe tbody tr th:only-of-type {\n",
       "        vertical-align: middle;\n",
       "    }\n",
       "\n",
       "    .dataframe tbody tr th {\n",
       "        vertical-align: top;\n",
       "    }\n",
       "\n",
       "    .dataframe thead th {\n",
       "        text-align: right;\n",
       "    }\n",
       "</style>\n",
       "<table border=\"1\" class=\"dataframe\">\n",
       "  <thead>\n",
       "    <tr style=\"text-align: right;\">\n",
       "      <th></th>\n",
       "      <th>pred</th>\n",
       "    </tr>\n",
       "  </thead>\n",
       "  <tbody>\n",
       "    <tr>\n",
       "      <th>2023-07-18 10:00:00</th>\n",
       "      <td>2.824656</td>\n",
       "    </tr>\n",
       "    <tr>\n",
       "      <th>2023-07-18 10:05:00</th>\n",
       "      <td>2.821439</td>\n",
       "    </tr>\n",
       "    <tr>\n",
       "      <th>2023-07-18 10:10:00</th>\n",
       "      <td>2.818634</td>\n",
       "    </tr>\n",
       "    <tr>\n",
       "      <th>2023-07-18 10:15:00</th>\n",
       "      <td>2.815096</td>\n",
       "    </tr>\n",
       "    <tr>\n",
       "      <th>2023-07-18 10:20:00</th>\n",
       "      <td>2.811174</td>\n",
       "    </tr>\n",
       "    <tr>\n",
       "      <th>...</th>\n",
       "      <td>...</td>\n",
       "    </tr>\n",
       "    <tr>\n",
       "      <th>2023-08-17 23:40:00</th>\n",
       "      <td>2.836989</td>\n",
       "    </tr>\n",
       "    <tr>\n",
       "      <th>2023-08-17 23:45:00</th>\n",
       "      <td>2.836949</td>\n",
       "    </tr>\n",
       "    <tr>\n",
       "      <th>2023-08-17 23:50:00</th>\n",
       "      <td>2.837161</td>\n",
       "    </tr>\n",
       "    <tr>\n",
       "      <th>2023-08-17 23:55:00</th>\n",
       "      <td>2.837300</td>\n",
       "    </tr>\n",
       "    <tr>\n",
       "      <th>2023-08-18 00:00:00</th>\n",
       "      <td>2.848645</td>\n",
       "    </tr>\n",
       "  </tbody>\n",
       "</table>\n",
       "<p>8809 rows × 1 columns</p>\n",
       "</div>"
      ],
      "text/plain": [
       "                         pred\n",
       "2023-07-18 10:00:00  2.824656\n",
       "2023-07-18 10:05:00  2.821439\n",
       "2023-07-18 10:10:00  2.818634\n",
       "2023-07-18 10:15:00  2.815096\n",
       "2023-07-18 10:20:00  2.811174\n",
       "...                       ...\n",
       "2023-08-17 23:40:00  2.836989\n",
       "2023-08-17 23:45:00  2.836949\n",
       "2023-08-17 23:50:00  2.837161\n",
       "2023-08-17 23:55:00  2.837300\n",
       "2023-08-18 00:00:00  2.848645\n",
       "\n",
       "[8809 rows x 1 columns]"
      ]
     },
     "execution_count": 430,
     "metadata": {},
     "output_type": "execute_result"
    }
   ],
   "source": [
    "predictions_backtest"
   ]
  },
  {
   "cell_type": "code",
   "execution_count": 431,
   "id": "3446a58b-9836-420c-944d-b73571e9cb54",
   "metadata": {},
   "outputs": [
    {
     "data": {
      "image/png": "[encoded data removed]",
      "text/plain": [
       "<Figure size 600x250 with 1 Axes>"
      ]
     },
     "metadata": {},
     "output_type": "display_data"
    }
   ],
   "source": [
    "# Plot backtest predictions vs real values\n",
    "# ==============================================================================\n",
    "fig, ax = plt.subplots(figsize=(6, 2.5))\n",
    "#data_train['ground_truth_H2_N2_ratio'].plot(ax=ax, label='train')\n",
    "data.iloc[-100:]['ground_truth_H2_N2_ratio'].plot(ax=ax, label='test')\n",
    "predictions_backtest.iloc[-100:].plot(ax=ax, label='predictions')\n",
    "ax.legend();"
   ]
  },
  {
   "cell_type": "code",
   "execution_count": 432,
   "id": "f3cd851e-74d2-4a87-b454-d06942f669cf",
   "metadata": {},
   "outputs": [],
   "source": [
    "actual_vals = data.loc[predictions_backtest.index, 'ground_truth_H2_N2_ratio'].to_numpy()"
   ]
  },
  {
   "cell_type": "code",
   "execution_count": 433,
   "id": "76a73381-2160-40f2-a7fd-4befa4e5d769",
   "metadata": {},
   "outputs": [],
   "source": [
    "predicted_vals = predictions_backtest.to_numpy()"
   ]
  },
  {
   "cell_type": "code",
   "execution_count": 434,
   "id": "641fd156-cd4f-4714-aae2-01963b12439c",
   "metadata": {},
   "outputs": [
    {
     "data": {
      "text/html": [
       "<div>\n",
       "<style scoped>\n",
       "    .dataframe tbody tr th:only-of-type {\n",
       "        vertical-align: middle;\n",
       "    }\n",
       "\n",
       "    .dataframe tbody tr th {\n",
       "        vertical-align: top;\n",
       "    }\n",
       "\n",
       "    .dataframe thead th {\n",
       "        text-align: right;\n",
       "    }\n",
       "</style>\n",
       "<table border=\"1\" class=\"dataframe\">\n",
       "  <thead>\n",
       "    <tr style=\"text-align: right;\">\n",
       "      <th></th>\n",
       "      <th>pred</th>\n",
       "    </tr>\n",
       "  </thead>\n",
       "  <tbody>\n",
       "    <tr>\n",
       "      <th>2023-07-18 10:00:00</th>\n",
       "      <td>2.824656</td>\n",
       "    </tr>\n",
       "    <tr>\n",
       "      <th>2023-07-18 10:05:00</th>\n",
       "      <td>2.821439</td>\n",
       "    </tr>\n",
       "    <tr>\n",
       "      <th>2023-07-18 10:10:00</th>\n",
       "      <td>2.818634</td>\n",
       "    </tr>\n",
       "    <tr>\n",
       "      <th>2023-07-18 10:15:00</th>\n",
       "      <td>2.815096</td>\n",
       "    </tr>\n",
       "    <tr>\n",
       "      <th>2023-07-18 10:20:00</th>\n",
       "      <td>2.811174</td>\n",
       "    </tr>\n",
       "    <tr>\n",
       "      <th>...</th>\n",
       "      <td>...</td>\n",
       "    </tr>\n",
       "    <tr>\n",
       "      <th>2023-08-17 23:40:00</th>\n",
       "      <td>2.836989</td>\n",
       "    </tr>\n",
       "    <tr>\n",
       "      <th>2023-08-17 23:45:00</th>\n",
       "      <td>2.836949</td>\n",
       "    </tr>\n",
       "    <tr>\n",
       "      <th>2023-08-17 23:50:00</th>\n",
       "      <td>2.837161</td>\n",
       "    </tr>\n",
       "    <tr>\n",
       "      <th>2023-08-17 23:55:00</th>\n",
       "      <td>2.837300</td>\n",
       "    </tr>\n",
       "    <tr>\n",
       "      <th>2023-08-18 00:00:00</th>\n",
       "      <td>2.848645</td>\n",
       "    </tr>\n",
       "  </tbody>\n",
       "</table>\n",
       "<p>8809 rows × 1 columns</p>\n",
       "</div>"
      ],
      "text/plain": [
       "                         pred\n",
       "2023-07-18 10:00:00  2.824656\n",
       "2023-07-18 10:05:00  2.821439\n",
       "2023-07-18 10:10:00  2.818634\n",
       "2023-07-18 10:15:00  2.815096\n",
       "2023-07-18 10:20:00  2.811174\n",
       "...                       ...\n",
       "2023-08-17 23:40:00  2.836989\n",
       "2023-08-17 23:45:00  2.836949\n",
       "2023-08-17 23:50:00  2.837161\n",
       "2023-08-17 23:55:00  2.837300\n",
       "2023-08-18 00:00:00  2.848645\n",
       "\n",
       "[8809 rows x 1 columns]"
      ]
     },
     "execution_count": 434,
     "metadata": {},
     "output_type": "execute_result"
    }
   ],
   "source": [
    "predictions_backtest"
   ]
  },
  {
   "cell_type": "code",
   "execution_count": 435,
   "id": "33a38946-84fc-4125-8023-0168bb888064",
   "metadata": {},
   "outputs": [
    {
     "data": {
      "text/plain": [
       "[<matplotlib.lines.Line2D at 0x14f163e80>]"
      ]
     },
     "execution_count": 435,
     "metadata": {},
     "output_type": "execute_result"
    },
    {
     "data": {
      "image/png": "[encoded data removed]",
      "text/plain": [
       "<Figure size 640x480 with 1 Axes>"
      ]
     },
     "metadata": {},
     "output_type": "display_data"
    }
   ],
   "source": [
    "plt.scatter(actual_vals, predicted_vals)\n",
    "plt.plot([min(actual_vals), max(actual_vals)], [min(actual_vals), max(actual_vals)], color='red')"
   ]
  },
  {
   "cell_type": "code",
   "execution_count": 436,
   "id": "af52df2c-5bcd-4266-8d13-a718d246a677",
   "metadata": {},
   "outputs": [
    {
     "name": "stdout",
     "output_type": "stream",
     "text": [
      "R-squared: 0.42997875846171774\n"
     ]
    }
   ],
   "source": [
    "from sklearn.metrics import r2_score\n",
    "r2 = r2_score(actual_vals, predicted_vals)\n",
    "print(\"R-squared:\", r2)"
   ]
  },
  {
   "cell_type": "code",
   "execution_count": null,
   "id": "673c6890-c47c-438d-ba68-daaf9bfeb84d",
   "metadata": {},
   "outputs": [],
   "source": []
  }
 ],
 "metadata": {
  "kernelspec": {
   "display_name": "Python 3 (ipykernel)",
   "language": "python",
   "name": "python3"
  },
  "language_info": {
   "codemirror_mode": {
    "name": "ipython",
    "version": 3
   },
   "file_extension": ".py",
   "mimetype": "text/x-python",
   "name": "python",
   "nbconvert_exporter": "python",
   "pygments_lexer": "ipython3",
   "version": "3.7.16"
  }
 },
 "nbformat": 4,
 "nbformat_minor": 5
}
